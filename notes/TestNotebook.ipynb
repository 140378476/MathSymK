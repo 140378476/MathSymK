{
 "cells": [
  {
   "cell_type": "code",
   "metadata": {
    "collapsed": true,
    "jupyter": {
     "is_executing": true
    }
   },
   "source": "println(\"Hello World\")\n",
   "outputs": [],
   "execution_count": null
  },
  {
   "metadata": {},
   "cell_type": "code",
   "outputs": [],
   "execution_count": null,
   "source": ""
  },
  {
   "metadata": {
    "ExecuteTime": {
     "end_time": "2024-09-27T11:28:04.332340300Z",
     "start_time": "2024-09-27T11:28:04.277868900Z"
    }
   },
   "cell_type": "code",
   "source": "@file:DependsOn(\"D:\\\\Proj\\\\MathSymK\\\\build\\\\classes\\\\kotlin\\\\main\")",
   "outputs": [],
   "execution_count": 3
  },
  {
   "metadata": {},
   "cell_type": "code",
   "outputs": [],
   "execution_count": null,
   "source": "import io.github.ezrnest.linear.Tensor"
  },
  {
   "metadata": {
    "ExecuteTime": {
     "end_time": "2024-09-27T11:23:23.628296300Z",
     "start_time": "2024-09-27T11:23:23.461887500Z"
    }
   },
   "cell_type": "code",
   "source": [
    "import io.github.ezrnest.model.Fraction\n",
    "\n",
    "val a = Fraction(1, 2)\n",
    "\n",
    "(a + 1) * 2"
   ],
   "outputs": [
    {
     "data": {
      "text/plain": [
       "3"
      ]
     },
     "execution_count": 2,
     "metadata": {},
     "output_type": "execute_result"
    }
   ],
   "execution_count": 2
  },
  {
   "metadata": {
    "ExecuteTime": {
     "end_time": "2024-09-27T11:23:04.891274900Z",
     "start_time": "2024-09-27T11:23:04.768175100Z"
    }
   },
   "cell_type": "code",
   "source": "notebook",
   "outputs": [
    {
     "data": {
      "text/plain": [
       "org.jetbrains.kotlinx.jupyter.repl.notebook.impl.NotebookImpl@5f2ef71"
      ]
     },
     "execution_count": 1,
     "metadata": {},
     "output_type": "execute_result"
    }
   ],
   "execution_count": 1
  },
  {
   "metadata": {
    "ExecuteTime": {
     "end_time": "2024-09-27T11:00:02.873609Z",
     "start_time": "2024-09-27T11:00:02.781500900Z"
    }
   },
   "cell_type": "code",
   "source": [
    "import io.github.ezrnest.model.NumberModels\n",
    "val ℚ = NumberModels.fractions()"
   ],
   "outputs": [],
   "execution_count": 6
  },
  {
   "metadata": {
    "ExecuteTime": {
     "end_time": "2024-09-19T14:22:55.625544300Z",
     "start_time": "2024-09-19T14:22:55.563708100Z"
    }
   },
   "cell_type": "code",
   "source": [
    "import io.github.ezrnest.model.NumberModels\n",
    "val ℤ = NumberModels.integers()"
   ],
   "outputs": [],
   "execution_count": 5
  },
  {
   "metadata": {},
   "cell_type": "code",
   "outputs": [],
   "execution_count": null,
   "source": [
    "import io.github.ezrnest.linear.*\n",
    "val t = Tensor."
   ]
  }
 ],
 "metadata": {
  "kernelspec": {
   "display_name": "Kotlin",
   "language": "kotlin",
   "name": "kotlin"
  },
  "language_info": {
   "name": "kotlin",
   "version": "1.9.23",
   "mimetype": "text/x-kotlin",
   "file_extension": ".kt",
   "pygments_lexer": "kotlin",
   "codemirror_mode": "text/x-kotlin",
   "nbconvert_exporter": ""
  },
  "ktnbPluginMetadata": {
   "projectDependencies": [
    "MathSymK.main"
   ]
  }
 },
 "nbformat": 4,
 "nbformat_minor": 0
}

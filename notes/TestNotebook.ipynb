{
 "cells": [
  {
   "cell_type": "code",
   "metadata": {
    "collapsed": true,
    "ExecuteTime": {
     "end_time": "2024-09-19T14:13:49.731740Z",
     "start_time": "2024-09-19T14:13:49.593112300Z"
    }
   },
   "source": "println(\"Hello World\")",
   "outputs": [
    {
     "name": "stdout",
     "output_type": "stream",
     "text": [
      "Hello World\r\n"
     ]
    }
   ],
   "execution_count": 1
  },
  {
   "metadata": {
    "ExecuteTime": {
     "end_time": "2024-09-19T14:21:44.427873300Z",
     "start_time": "2024-09-19T14:21:44.268127700Z"
    }
   },
   "cell_type": "code",
   "source": [
    "import io.github.ezrnest.model.Fraction\n",
    "\n",
    "val a = Fraction(1, 2)"
   ],
   "outputs": [],
   "execution_count": 1
  },
  {
   "metadata": {
    "ExecuteTime": {
     "end_time": "2024-09-19T14:22:28.208447100Z",
     "start_time": "2024-09-19T14:22:28.159577200Z"
    }
   },
   "cell_type": "code",
   "source": "",
   "outputs": [
    {
     "data": {
      "text/plain": [
       "1/2"
      ]
     },
     "execution_count": 3,
     "metadata": {},
     "output_type": "execute_result"
    }
   ],
   "execution_count": 3
  },
  {
   "metadata": {
    "ExecuteTime": {
     "end_time": "2024-09-19T14:22:55.625544300Z",
     "start_time": "2024-09-19T14:22:55.563708100Z"
    }
   },
   "cell_type": "code",
   "source": [
    "import io.github.ezrnest.model.NumberModels\n",
    "\n",
    "val ℤ = NumberModels.integers()"
   ],
   "outputs": [],
   "execution_count": 5
  },
  {
   "metadata": {},
   "cell_type": "code",
   "outputs": [],
   "execution_count": null,
   "source": [
    "with(ℤ) { \n",
    "    \n",
    "}"
   ]
  }
 ],
 "metadata": {
  "kernelspec": {
   "display_name": "Kotlin",
   "language": "kotlin",
   "name": "kotlin"
  },
  "language_info": {
   "name": "kotlin",
   "version": "1.9.23",
   "mimetype": "text/x-kotlin",
   "file_extension": ".kt",
   "pygments_lexer": "kotlin",
   "codemirror_mode": "text/x-kotlin",
   "nbconvert_exporter": ""
  },
  "ktnbPluginMetadata": {
   "projectDependencies": [
    "MathSymK.main"
   ]
  }
 },
 "nbformat": 4,
 "nbformat_minor": 0
}
